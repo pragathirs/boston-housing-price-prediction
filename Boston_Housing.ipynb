{
 "cells": [
  {
   "cell_type": "code",
   "execution_count": 1,
   "id": "40c4b1a4",
   "metadata": {},
   "outputs": [],
   "source": [
    "import pandas as pd\n",
    "import numpy as np\n",
    "from sklearn.model_selection import train_test_split \n",
    "from sklearn.preprocessing import StandardScaler\n",
    "from sklearn.feature_selection import r_regression\n",
    "from sklearn.metrics import mean_absolute_percentage_error, mean_absolute_error\n",
    "from sklearn.linear_model import LinearRegression"
   ]
  },
  {
   "cell_type": "markdown",
   "id": "158b2bb5",
   "metadata": {},
   "source": [
    "# Boston Housing Dataset"
   ]
  },
  {
   "cell_type": "code",
   "execution_count": 32,
   "id": "ace78141",
   "metadata": {},
   "outputs": [
    {
     "data": {
      "text/html": [
       "<div>\n",
       "<style scoped>\n",
       "    .dataframe tbody tr th:only-of-type {\n",
       "        vertical-align: middle;\n",
       "    }\n",
       "\n",
       "    .dataframe tbody tr th {\n",
       "        vertical-align: top;\n",
       "    }\n",
       "\n",
       "    .dataframe thead th {\n",
       "        text-align: right;\n",
       "    }\n",
       "</style>\n",
       "<table border=\"1\" class=\"dataframe\">\n",
       "  <thead>\n",
       "    <tr style=\"text-align: right;\">\n",
       "      <th></th>\n",
       "      <th>CRIM</th>\n",
       "      <th>ZN</th>\n",
       "      <th>INDUS</th>\n",
       "      <th>CHAS</th>\n",
       "      <th>NOX</th>\n",
       "      <th>RM</th>\n",
       "      <th>AGE</th>\n",
       "      <th>DIS</th>\n",
       "      <th>RAD</th>\n",
       "      <th>TAX</th>\n",
       "      <th>PTRATIO</th>\n",
       "      <th>LSTAT</th>\n",
       "      <th>MEDV</th>\n",
       "      <th>CAT. MEDV</th>\n",
       "    </tr>\n",
       "  </thead>\n",
       "  <tbody>\n",
       "    <tr>\n",
       "      <th>0</th>\n",
       "      <td>0.00632</td>\n",
       "      <td>18.0</td>\n",
       "      <td>2.31</td>\n",
       "      <td>0</td>\n",
       "      <td>0.538</td>\n",
       "      <td>6.575</td>\n",
       "      <td>65.2</td>\n",
       "      <td>4.0900</td>\n",
       "      <td>1</td>\n",
       "      <td>296</td>\n",
       "      <td>15.3</td>\n",
       "      <td>4.98</td>\n",
       "      <td>24.0</td>\n",
       "      <td>0</td>\n",
       "    </tr>\n",
       "    <tr>\n",
       "      <th>1</th>\n",
       "      <td>0.02731</td>\n",
       "      <td>0.0</td>\n",
       "      <td>7.07</td>\n",
       "      <td>0</td>\n",
       "      <td>0.469</td>\n",
       "      <td>6.421</td>\n",
       "      <td>78.9</td>\n",
       "      <td>4.9671</td>\n",
       "      <td>2</td>\n",
       "      <td>242</td>\n",
       "      <td>17.8</td>\n",
       "      <td>9.14</td>\n",
       "      <td>21.6</td>\n",
       "      <td>0</td>\n",
       "    </tr>\n",
       "    <tr>\n",
       "      <th>2</th>\n",
       "      <td>0.02729</td>\n",
       "      <td>0.0</td>\n",
       "      <td>7.07</td>\n",
       "      <td>0</td>\n",
       "      <td>0.469</td>\n",
       "      <td>7.185</td>\n",
       "      <td>61.1</td>\n",
       "      <td>4.9671</td>\n",
       "      <td>2</td>\n",
       "      <td>242</td>\n",
       "      <td>17.8</td>\n",
       "      <td>4.03</td>\n",
       "      <td>34.7</td>\n",
       "      <td>1</td>\n",
       "    </tr>\n",
       "    <tr>\n",
       "      <th>3</th>\n",
       "      <td>0.03237</td>\n",
       "      <td>0.0</td>\n",
       "      <td>2.18</td>\n",
       "      <td>0</td>\n",
       "      <td>0.458</td>\n",
       "      <td>6.998</td>\n",
       "      <td>45.8</td>\n",
       "      <td>6.0622</td>\n",
       "      <td>3</td>\n",
       "      <td>222</td>\n",
       "      <td>18.7</td>\n",
       "      <td>2.94</td>\n",
       "      <td>33.4</td>\n",
       "      <td>1</td>\n",
       "    </tr>\n",
       "    <tr>\n",
       "      <th>4</th>\n",
       "      <td>0.06905</td>\n",
       "      <td>0.0</td>\n",
       "      <td>2.18</td>\n",
       "      <td>0</td>\n",
       "      <td>0.458</td>\n",
       "      <td>7.147</td>\n",
       "      <td>54.2</td>\n",
       "      <td>6.0622</td>\n",
       "      <td>3</td>\n",
       "      <td>222</td>\n",
       "      <td>18.7</td>\n",
       "      <td>5.33</td>\n",
       "      <td>36.2</td>\n",
       "      <td>1</td>\n",
       "    </tr>\n",
       "  </tbody>\n",
       "</table>\n",
       "</div>"
      ],
      "text/plain": [
       "      CRIM    ZN  INDUS  CHAS    NOX     RM   AGE     DIS  RAD  TAX  PTRATIO  \\\n",
       "0  0.00632  18.0   2.31     0  0.538  6.575  65.2  4.0900    1  296     15.3   \n",
       "1  0.02731   0.0   7.07     0  0.469  6.421  78.9  4.9671    2  242     17.8   \n",
       "2  0.02729   0.0   7.07     0  0.469  7.185  61.1  4.9671    2  242     17.8   \n",
       "3  0.03237   0.0   2.18     0  0.458  6.998  45.8  6.0622    3  222     18.7   \n",
       "4  0.06905   0.0   2.18     0  0.458  7.147  54.2  6.0622    3  222     18.7   \n",
       "\n",
       "   LSTAT  MEDV  CAT. MEDV  \n",
       "0   4.98  24.0          0  \n",
       "1   9.14  21.6          0  \n",
       "2   4.03  34.7          1  \n",
       "3   2.94  33.4          1  \n",
       "4   5.33  36.2          1  "
      ]
     },
     "execution_count": 32,
     "metadata": {},
     "output_type": "execute_result"
    }
   ],
   "source": [
    "fileloc = './BostonHousing.csv'\n",
    "housing = pd.read_csv(fileloc) #read the file\n",
    "housing.head()"
   ]
  },
  {
   "cell_type": "markdown",
   "id": "4a6fa8c2",
   "metadata": {},
   "source": [
    "## Data Preprocessing"
   ]
  },
  {
   "cell_type": "code",
   "execution_count": 33,
   "id": "7461f1d5",
   "metadata": {},
   "outputs": [
    {
     "data": {
      "text/plain": [
       "CRIM         0\n",
       "ZN           0\n",
       "INDUS        0\n",
       "CHAS         0\n",
       "NOX          0\n",
       "RM           0\n",
       "AGE          0\n",
       "DIS          0\n",
       "RAD          0\n",
       "TAX          0\n",
       "PTRATIO      0\n",
       "LSTAT        0\n",
       "MEDV         0\n",
       "CAT. MEDV    0\n",
       "dtype: int64"
      ]
     },
     "execution_count": 33,
     "metadata": {},
     "output_type": "execute_result"
    }
   ],
   "source": [
    "housing.isnull().sum()"
   ]
  },
  {
   "cell_type": "code",
   "execution_count": 34,
   "id": "990d70db",
   "metadata": {},
   "outputs": [
    {
     "data": {
      "text/html": [
       "<div>\n",
       "<style scoped>\n",
       "    .dataframe tbody tr th:only-of-type {\n",
       "        vertical-align: middle;\n",
       "    }\n",
       "\n",
       "    .dataframe tbody tr th {\n",
       "        vertical-align: top;\n",
       "    }\n",
       "\n",
       "    .dataframe thead th {\n",
       "        text-align: right;\n",
       "    }\n",
       "</style>\n",
       "<table border=\"1\" class=\"dataframe\">\n",
       "  <thead>\n",
       "    <tr style=\"text-align: right;\">\n",
       "      <th></th>\n",
       "      <th>CrimeRate</th>\n",
       "      <th>Zoned</th>\n",
       "      <th>Non_Retail</th>\n",
       "      <th>Riverside</th>\n",
       "      <th>NitricOxide</th>\n",
       "      <th>Rooms</th>\n",
       "      <th>Age</th>\n",
       "      <th>Dist_Centre</th>\n",
       "      <th>Accessibility_Index</th>\n",
       "      <th>tax</th>\n",
       "      <th>Pupil_Teacher</th>\n",
       "      <th>Lower_Stat%</th>\n",
       "      <th>House_Value</th>\n",
       "      <th>Cat_Value</th>\n",
       "    </tr>\n",
       "  </thead>\n",
       "  <tbody>\n",
       "    <tr>\n",
       "      <th>0</th>\n",
       "      <td>0.00632</td>\n",
       "      <td>18.0</td>\n",
       "      <td>2.31</td>\n",
       "      <td>0</td>\n",
       "      <td>0.538</td>\n",
       "      <td>6.575</td>\n",
       "      <td>65.2</td>\n",
       "      <td>4.0900</td>\n",
       "      <td>1</td>\n",
       "      <td>296</td>\n",
       "      <td>15.3</td>\n",
       "      <td>4.98</td>\n",
       "      <td>24.0</td>\n",
       "      <td>0</td>\n",
       "    </tr>\n",
       "    <tr>\n",
       "      <th>1</th>\n",
       "      <td>0.02731</td>\n",
       "      <td>0.0</td>\n",
       "      <td>7.07</td>\n",
       "      <td>0</td>\n",
       "      <td>0.469</td>\n",
       "      <td>6.421</td>\n",
       "      <td>78.9</td>\n",
       "      <td>4.9671</td>\n",
       "      <td>2</td>\n",
       "      <td>242</td>\n",
       "      <td>17.8</td>\n",
       "      <td>9.14</td>\n",
       "      <td>21.6</td>\n",
       "      <td>0</td>\n",
       "    </tr>\n",
       "    <tr>\n",
       "      <th>2</th>\n",
       "      <td>0.02729</td>\n",
       "      <td>0.0</td>\n",
       "      <td>7.07</td>\n",
       "      <td>0</td>\n",
       "      <td>0.469</td>\n",
       "      <td>7.185</td>\n",
       "      <td>61.1</td>\n",
       "      <td>4.9671</td>\n",
       "      <td>2</td>\n",
       "      <td>242</td>\n",
       "      <td>17.8</td>\n",
       "      <td>4.03</td>\n",
       "      <td>34.7</td>\n",
       "      <td>1</td>\n",
       "    </tr>\n",
       "    <tr>\n",
       "      <th>3</th>\n",
       "      <td>0.03237</td>\n",
       "      <td>0.0</td>\n",
       "      <td>2.18</td>\n",
       "      <td>0</td>\n",
       "      <td>0.458</td>\n",
       "      <td>6.998</td>\n",
       "      <td>45.8</td>\n",
       "      <td>6.0622</td>\n",
       "      <td>3</td>\n",
       "      <td>222</td>\n",
       "      <td>18.7</td>\n",
       "      <td>2.94</td>\n",
       "      <td>33.4</td>\n",
       "      <td>1</td>\n",
       "    </tr>\n",
       "    <tr>\n",
       "      <th>4</th>\n",
       "      <td>0.06905</td>\n",
       "      <td>0.0</td>\n",
       "      <td>2.18</td>\n",
       "      <td>0</td>\n",
       "      <td>0.458</td>\n",
       "      <td>7.147</td>\n",
       "      <td>54.2</td>\n",
       "      <td>6.0622</td>\n",
       "      <td>3</td>\n",
       "      <td>222</td>\n",
       "      <td>18.7</td>\n",
       "      <td>5.33</td>\n",
       "      <td>36.2</td>\n",
       "      <td>1</td>\n",
       "    </tr>\n",
       "  </tbody>\n",
       "</table>\n",
       "</div>"
      ],
      "text/plain": [
       "   CrimeRate  Zoned  Non_Retail  Riverside  NitricOxide  Rooms   Age  \\\n",
       "0    0.00632   18.0        2.31          0        0.538  6.575  65.2   \n",
       "1    0.02731    0.0        7.07          0        0.469  6.421  78.9   \n",
       "2    0.02729    0.0        7.07          0        0.469  7.185  61.1   \n",
       "3    0.03237    0.0        2.18          0        0.458  6.998  45.8   \n",
       "4    0.06905    0.0        2.18          0        0.458  7.147  54.2   \n",
       "\n",
       "   Dist_Centre  Accessibility_Index  tax  Pupil_Teacher  Lower_Stat%  \\\n",
       "0       4.0900                    1  296           15.3         4.98   \n",
       "1       4.9671                    2  242           17.8         9.14   \n",
       "2       4.9671                    2  242           17.8         4.03   \n",
       "3       6.0622                    3  222           18.7         2.94   \n",
       "4       6.0622                    3  222           18.7         5.33   \n",
       "\n",
       "   House_Value  Cat_Value  \n",
       "0         24.0          0  \n",
       "1         21.6          0  \n",
       "2         34.7          1  \n",
       "3         33.4          1  \n",
       "4         36.2          1  "
      ]
     },
     "execution_count": 34,
     "metadata": {},
     "output_type": "execute_result"
    }
   ],
   "source": [
    "housing = housing.rename(columns={'CRIM':'CrimeRate','ZN':'Zoned','INDUS':'Non_Retail','CHAS':'Riverside',\n",
    "                                  'NOX':'NitricOxide','RM':'Rooms','AGE':'Age','DIS':'Dist_Centre',\n",
    "                                  'RAD':'Accessibility_Index','TAX':'tax','PTRATIO':'Pupil_Teacher',\n",
    "                                  'LSTAT':'Lower_Stat%','MEDV': 'House_Value' , 'CAT. MEDV': 'Cat_Value' })\n",
    "housing.head()\n",
    "#renaming the columns of the dataset"
   ]
  },
  {
   "cell_type": "code",
   "execution_count": 35,
   "id": "493100fd",
   "metadata": {},
   "outputs": [],
   "source": [
    "housingStd= StandardScaler()\n",
    "housingStd.fit(housing)\n",
    "housingScaled =housingStd.transform(housing)\n",
    "columns_names=housing.columns"
   ]
  },
  {
   "cell_type": "code",
   "execution_count": 36,
   "id": "28845412",
   "metadata": {},
   "outputs": [
    {
     "data": {
      "text/html": [
       "<div>\n",
       "<style scoped>\n",
       "    .dataframe tbody tr th:only-of-type {\n",
       "        vertical-align: middle;\n",
       "    }\n",
       "\n",
       "    .dataframe tbody tr th {\n",
       "        vertical-align: top;\n",
       "    }\n",
       "\n",
       "    .dataframe thead th {\n",
       "        text-align: right;\n",
       "    }\n",
       "</style>\n",
       "<table border=\"1\" class=\"dataframe\">\n",
       "  <thead>\n",
       "    <tr style=\"text-align: right;\">\n",
       "      <th></th>\n",
       "      <th>CrimeRate</th>\n",
       "      <th>Zoned</th>\n",
       "      <th>Non_Retail</th>\n",
       "      <th>Riverside</th>\n",
       "      <th>NitricOxide</th>\n",
       "      <th>Rooms</th>\n",
       "      <th>Age</th>\n",
       "      <th>Dist_Centre</th>\n",
       "      <th>Accessibility_Index</th>\n",
       "      <th>tax</th>\n",
       "      <th>Pupil_Teacher</th>\n",
       "      <th>Lower_Stat%</th>\n",
       "      <th>House_Value</th>\n",
       "      <th>Cat_Value</th>\n",
       "    </tr>\n",
       "  </thead>\n",
       "  <tbody>\n",
       "    <tr>\n",
       "      <th>0</th>\n",
       "      <td>-0.419782</td>\n",
       "      <td>0.284830</td>\n",
       "      <td>-1.287909</td>\n",
       "      <td>-0.272599</td>\n",
       "      <td>-0.144217</td>\n",
       "      <td>0.413672</td>\n",
       "      <td>-0.120013</td>\n",
       "      <td>0.140214</td>\n",
       "      <td>-0.982843</td>\n",
       "      <td>-0.666608</td>\n",
       "      <td>-1.459000</td>\n",
       "      <td>-1.075562</td>\n",
       "      <td>0.159686</td>\n",
       "      <td>-0.446153</td>\n",
       "    </tr>\n",
       "    <tr>\n",
       "      <th>1</th>\n",
       "      <td>-0.417339</td>\n",
       "      <td>-0.487722</td>\n",
       "      <td>-0.593381</td>\n",
       "      <td>-0.272599</td>\n",
       "      <td>-0.740262</td>\n",
       "      <td>0.194274</td>\n",
       "      <td>0.367166</td>\n",
       "      <td>0.557160</td>\n",
       "      <td>-0.867883</td>\n",
       "      <td>-0.987329</td>\n",
       "      <td>-0.303094</td>\n",
       "      <td>-0.492439</td>\n",
       "      <td>-0.101524</td>\n",
       "      <td>-0.446153</td>\n",
       "    </tr>\n",
       "    <tr>\n",
       "      <th>2</th>\n",
       "      <td>-0.417342</td>\n",
       "      <td>-0.487722</td>\n",
       "      <td>-0.593381</td>\n",
       "      <td>-0.272599</td>\n",
       "      <td>-0.740262</td>\n",
       "      <td>1.282714</td>\n",
       "      <td>-0.265812</td>\n",
       "      <td>0.557160</td>\n",
       "      <td>-0.867883</td>\n",
       "      <td>-0.987329</td>\n",
       "      <td>-0.303094</td>\n",
       "      <td>-1.208727</td>\n",
       "      <td>1.324247</td>\n",
       "      <td>2.241386</td>\n",
       "    </tr>\n",
       "    <tr>\n",
       "      <th>3</th>\n",
       "      <td>-0.416750</td>\n",
       "      <td>-0.487722</td>\n",
       "      <td>-1.306878</td>\n",
       "      <td>-0.272599</td>\n",
       "      <td>-0.835284</td>\n",
       "      <td>1.016303</td>\n",
       "      <td>-0.809889</td>\n",
       "      <td>1.077737</td>\n",
       "      <td>-0.752922</td>\n",
       "      <td>-1.106115</td>\n",
       "      <td>0.113032</td>\n",
       "      <td>-1.361517</td>\n",
       "      <td>1.182758</td>\n",
       "      <td>2.241386</td>\n",
       "    </tr>\n",
       "    <tr>\n",
       "      <th>4</th>\n",
       "      <td>-0.412482</td>\n",
       "      <td>-0.487722</td>\n",
       "      <td>-1.306878</td>\n",
       "      <td>-0.272599</td>\n",
       "      <td>-0.835284</td>\n",
       "      <td>1.228577</td>\n",
       "      <td>-0.511180</td>\n",
       "      <td>1.077737</td>\n",
       "      <td>-0.752922</td>\n",
       "      <td>-1.106115</td>\n",
       "      <td>0.113032</td>\n",
       "      <td>-1.026501</td>\n",
       "      <td>1.487503</td>\n",
       "      <td>2.241386</td>\n",
       "    </tr>\n",
       "  </tbody>\n",
       "</table>\n",
       "</div>"
      ],
      "text/plain": [
       "   CrimeRate     Zoned  Non_Retail  Riverside  NitricOxide     Rooms  \\\n",
       "0  -0.419782  0.284830   -1.287909  -0.272599    -0.144217  0.413672   \n",
       "1  -0.417339 -0.487722   -0.593381  -0.272599    -0.740262  0.194274   \n",
       "2  -0.417342 -0.487722   -0.593381  -0.272599    -0.740262  1.282714   \n",
       "3  -0.416750 -0.487722   -1.306878  -0.272599    -0.835284  1.016303   \n",
       "4  -0.412482 -0.487722   -1.306878  -0.272599    -0.835284  1.228577   \n",
       "\n",
       "        Age  Dist_Centre  Accessibility_Index       tax  Pupil_Teacher  \\\n",
       "0 -0.120013     0.140214            -0.982843 -0.666608      -1.459000   \n",
       "1  0.367166     0.557160            -0.867883 -0.987329      -0.303094   \n",
       "2 -0.265812     0.557160            -0.867883 -0.987329      -0.303094   \n",
       "3 -0.809889     1.077737            -0.752922 -1.106115       0.113032   \n",
       "4 -0.511180     1.077737            -0.752922 -1.106115       0.113032   \n",
       "\n",
       "   Lower_Stat%  House_Value  Cat_Value  \n",
       "0    -1.075562     0.159686  -0.446153  \n",
       "1    -0.492439    -0.101524  -0.446153  \n",
       "2    -1.208727     1.324247   2.241386  \n",
       "3    -1.361517     1.182758   2.241386  \n",
       "4    -1.026501     1.487503   2.241386  "
      ]
     },
     "execution_count": 36,
     "metadata": {},
     "output_type": "execute_result"
    }
   ],
   "source": [
    "housingScaled =pd.DataFrame(housingScaled,columns=columns_names)\n",
    "housingScaled.head()"
   ]
  },
  {
   "cell_type": "code",
   "execution_count": 37,
   "id": "1bbd8c21",
   "metadata": {},
   "outputs": [],
   "source": [
    "housingScaledX = housingScaled.drop('House_Value',axis=1,inplace=False)\n",
    "housingScaledY = housingScaled['House_Value'].values\n",
    "\n",
    "housingX_train,housingX_test,housingy_train,housingy_test = train_test_split(housingScaledX,housingScaledY,test_size=.25,random_state=1)"
   ]
  },
  {
   "cell_type": "markdown",
   "id": "6a295030",
   "metadata": {},
   "source": [
    "## 1) Simple Model (1 variable)"
   ]
  },
  {
   "cell_type": "code",
   "execution_count": 38,
   "id": "c9dce5c8",
   "metadata": {},
   "outputs": [],
   "source": [
    "housing_SimpleX_train = housingX_train[['Lower_Stat%']].values\n",
    "housing_SimpleY_train = housingy_train\n",
    "housing_SimpleX_test = housingX_test[['Lower_Stat%']].values\n",
    "housing_SimpleY_test = housingy_test"
   ]
  },
  {
   "cell_type": "code",
   "execution_count": 39,
   "id": "abc8c273",
   "metadata": {},
   "outputs": [
    {
     "data": {
      "text/html": [
       "<style>#sk-container-id-4 {color: black;background-color: white;}#sk-container-id-4 pre{padding: 0;}#sk-container-id-4 div.sk-toggleable {background-color: white;}#sk-container-id-4 label.sk-toggleable__label {cursor: pointer;display: block;width: 100%;margin-bottom: 0;padding: 0.3em;box-sizing: border-box;text-align: center;}#sk-container-id-4 label.sk-toggleable__label-arrow:before {content: \"▸\";float: left;margin-right: 0.25em;color: #696969;}#sk-container-id-4 label.sk-toggleable__label-arrow:hover:before {color: black;}#sk-container-id-4 div.sk-estimator:hover label.sk-toggleable__label-arrow:before {color: black;}#sk-container-id-4 div.sk-toggleable__content {max-height: 0;max-width: 0;overflow: hidden;text-align: left;background-color: #f0f8ff;}#sk-container-id-4 div.sk-toggleable__content pre {margin: 0.2em;color: black;border-radius: 0.25em;background-color: #f0f8ff;}#sk-container-id-4 input.sk-toggleable__control:checked~div.sk-toggleable__content {max-height: 200px;max-width: 100%;overflow: auto;}#sk-container-id-4 input.sk-toggleable__control:checked~label.sk-toggleable__label-arrow:before {content: \"▾\";}#sk-container-id-4 div.sk-estimator input.sk-toggleable__control:checked~label.sk-toggleable__label {background-color: #d4ebff;}#sk-container-id-4 div.sk-label input.sk-toggleable__control:checked~label.sk-toggleable__label {background-color: #d4ebff;}#sk-container-id-4 input.sk-hidden--visually {border: 0;clip: rect(1px 1px 1px 1px);clip: rect(1px, 1px, 1px, 1px);height: 1px;margin: -1px;overflow: hidden;padding: 0;position: absolute;width: 1px;}#sk-container-id-4 div.sk-estimator {font-family: monospace;background-color: #f0f8ff;border: 1px dotted black;border-radius: 0.25em;box-sizing: border-box;margin-bottom: 0.5em;}#sk-container-id-4 div.sk-estimator:hover {background-color: #d4ebff;}#sk-container-id-4 div.sk-parallel-item::after {content: \"\";width: 100%;border-bottom: 1px solid gray;flex-grow: 1;}#sk-container-id-4 div.sk-label:hover label.sk-toggleable__label {background-color: #d4ebff;}#sk-container-id-4 div.sk-serial::before {content: \"\";position: absolute;border-left: 1px solid gray;box-sizing: border-box;top: 0;bottom: 0;left: 50%;z-index: 0;}#sk-container-id-4 div.sk-serial {display: flex;flex-direction: column;align-items: center;background-color: white;padding-right: 0.2em;padding-left: 0.2em;position: relative;}#sk-container-id-4 div.sk-item {position: relative;z-index: 1;}#sk-container-id-4 div.sk-parallel {display: flex;align-items: stretch;justify-content: center;background-color: white;position: relative;}#sk-container-id-4 div.sk-item::before, #sk-container-id-4 div.sk-parallel-item::before {content: \"\";position: absolute;border-left: 1px solid gray;box-sizing: border-box;top: 0;bottom: 0;left: 50%;z-index: -1;}#sk-container-id-4 div.sk-parallel-item {display: flex;flex-direction: column;z-index: 1;position: relative;background-color: white;}#sk-container-id-4 div.sk-parallel-item:first-child::after {align-self: flex-end;width: 50%;}#sk-container-id-4 div.sk-parallel-item:last-child::after {align-self: flex-start;width: 50%;}#sk-container-id-4 div.sk-parallel-item:only-child::after {width: 0;}#sk-container-id-4 div.sk-dashed-wrapped {border: 1px dashed gray;margin: 0 0.4em 0.5em 0.4em;box-sizing: border-box;padding-bottom: 0.4em;background-color: white;}#sk-container-id-4 div.sk-label label {font-family: monospace;font-weight: bold;display: inline-block;line-height: 1.2em;}#sk-container-id-4 div.sk-label-container {text-align: center;}#sk-container-id-4 div.sk-container {/* jupyter's `normalize.less` sets `[hidden] { display: none; }` but bootstrap.min.css set `[hidden] { display: none !important; }` so we also need the `!important` here to be able to override the default hidden behavior on the sphinx rendered scikit-learn.org. See: https://github.com/scikit-learn/scikit-learn/issues/21755 */display: inline-block !important;position: relative;}#sk-container-id-4 div.sk-text-repr-fallback {display: none;}</style><div id=\"sk-container-id-4\" class=\"sk-top-container\"><div class=\"sk-text-repr-fallback\"><pre>LinearRegression()</pre><b>In a Jupyter environment, please rerun this cell to show the HTML representation or trust the notebook. <br />On GitHub, the HTML representation is unable to render, please try loading this page with nbviewer.org.</b></div><div class=\"sk-container\" hidden><div class=\"sk-item\"><div class=\"sk-estimator sk-toggleable\"><input class=\"sk-toggleable__control sk-hidden--visually\" id=\"sk-estimator-id-4\" type=\"checkbox\" checked><label for=\"sk-estimator-id-4\" class=\"sk-toggleable__label sk-toggleable__label-arrow\">LinearRegression</label><div class=\"sk-toggleable__content\"><pre>LinearRegression()</pre></div></div></div></div></div>"
      ],
      "text/plain": [
       "LinearRegression()"
      ]
     },
     "execution_count": 39,
     "metadata": {},
     "output_type": "execute_result"
    }
   ],
   "source": [
    "housingModel1 = LinearRegression()\n",
    "housingModel1.fit(housing_SimpleX_train, housing_SimpleY_train)"
   ]
  },
  {
   "cell_type": "code",
   "execution_count": 40,
   "id": "05921f32",
   "metadata": {},
   "outputs": [
    {
     "data": {
      "text/plain": [
       "0.54669561040895"
      ]
     },
     "execution_count": 40,
     "metadata": {},
     "output_type": "execute_result"
    }
   ],
   "source": [
    "housingModel1.score(housing_SimpleX_train, housing_SimpleY_train)"
   ]
  },
  {
   "cell_type": "code",
   "execution_count": 41,
   "id": "9accd40a",
   "metadata": {},
   "outputs": [
    {
     "data": {
      "text/plain": [
       "0.5327362954644816"
      ]
     },
     "execution_count": 41,
     "metadata": {},
     "output_type": "execute_result"
    }
   ],
   "source": [
    "housingModel1.score(housing_SimpleX_test, housing_SimpleY_test)"
   ]
  },
  {
   "cell_type": "code",
   "execution_count": 42,
   "id": "d418807a",
   "metadata": {},
   "outputs": [
    {
     "name": "stdout",
     "output_type": "stream",
     "text": [
      "Beta1 = [-0.70705514]\n"
     ]
    }
   ],
   "source": [
    "print(\"Beta1 =\", housingModel1.coef_)"
   ]
  },
  {
   "cell_type": "code",
   "execution_count": 43,
   "id": "787792dd",
   "metadata": {},
   "outputs": [
    {
     "name": "stdout",
     "output_type": "stream",
     "text": [
      "Beta0 = 0.007574411507998768\n"
     ]
    }
   ],
   "source": [
    "print(\"Beta0 =\", housingModel1.intercept_)"
   ]
  },
  {
   "cell_type": "markdown",
   "id": "90d0f970",
   "metadata": {},
   "source": [
    "Comments:\n",
    "\n",
    "1) The independent variable 'Lower_Stat%' was chosen after testing all independent variables for the one that gave the highest score (R-squared) in the above code. Lower Status corresponds to the economic status of the neighborhood and seems practical to have a high weightage in determining the value of the house(Dependent Variable). \n",
    "\n",
    "\n",
    "2) A model that is underfit will have high training and high testing error while an overfit model will have extremely low training error but a high testing error. Here in this case, both training and testing data have low R-squared scores . which means the errors are high. When both the training and testing errors are high, the model is UNDERFITTING."
   ]
  },
  {
   "cell_type": "markdown",
   "id": "64db8e37",
   "metadata": {},
   "source": [
    "## 2) Medium Complexity  Model (2 or 3 variables)"
   ]
  },
  {
   "cell_type": "code",
   "execution_count": 44,
   "id": "71e9053c",
   "metadata": {},
   "outputs": [],
   "source": [
    "housing_MediumX_train = housingX_train[['Lower_Stat%','Rooms','Cat_Value']].values\n",
    "housing_MediumY_train = housingy_train\n",
    "housing_MediumX_test = housingX_test[['Lower_Stat%','Rooms','Cat_Value']].values\n",
    "housing_MediumY_test = housingy_test"
   ]
  },
  {
   "cell_type": "code",
   "execution_count": 45,
   "id": "83c23cb5",
   "metadata": {},
   "outputs": [
    {
     "data": {
      "text/html": [
       "<style>#sk-container-id-5 {color: black;background-color: white;}#sk-container-id-5 pre{padding: 0;}#sk-container-id-5 div.sk-toggleable {background-color: white;}#sk-container-id-5 label.sk-toggleable__label {cursor: pointer;display: block;width: 100%;margin-bottom: 0;padding: 0.3em;box-sizing: border-box;text-align: center;}#sk-container-id-5 label.sk-toggleable__label-arrow:before {content: \"▸\";float: left;margin-right: 0.25em;color: #696969;}#sk-container-id-5 label.sk-toggleable__label-arrow:hover:before {color: black;}#sk-container-id-5 div.sk-estimator:hover label.sk-toggleable__label-arrow:before {color: black;}#sk-container-id-5 div.sk-toggleable__content {max-height: 0;max-width: 0;overflow: hidden;text-align: left;background-color: #f0f8ff;}#sk-container-id-5 div.sk-toggleable__content pre {margin: 0.2em;color: black;border-radius: 0.25em;background-color: #f0f8ff;}#sk-container-id-5 input.sk-toggleable__control:checked~div.sk-toggleable__content {max-height: 200px;max-width: 100%;overflow: auto;}#sk-container-id-5 input.sk-toggleable__control:checked~label.sk-toggleable__label-arrow:before {content: \"▾\";}#sk-container-id-5 div.sk-estimator input.sk-toggleable__control:checked~label.sk-toggleable__label {background-color: #d4ebff;}#sk-container-id-5 div.sk-label input.sk-toggleable__control:checked~label.sk-toggleable__label {background-color: #d4ebff;}#sk-container-id-5 input.sk-hidden--visually {border: 0;clip: rect(1px 1px 1px 1px);clip: rect(1px, 1px, 1px, 1px);height: 1px;margin: -1px;overflow: hidden;padding: 0;position: absolute;width: 1px;}#sk-container-id-5 div.sk-estimator {font-family: monospace;background-color: #f0f8ff;border: 1px dotted black;border-radius: 0.25em;box-sizing: border-box;margin-bottom: 0.5em;}#sk-container-id-5 div.sk-estimator:hover {background-color: #d4ebff;}#sk-container-id-5 div.sk-parallel-item::after {content: \"\";width: 100%;border-bottom: 1px solid gray;flex-grow: 1;}#sk-container-id-5 div.sk-label:hover label.sk-toggleable__label {background-color: #d4ebff;}#sk-container-id-5 div.sk-serial::before {content: \"\";position: absolute;border-left: 1px solid gray;box-sizing: border-box;top: 0;bottom: 0;left: 50%;z-index: 0;}#sk-container-id-5 div.sk-serial {display: flex;flex-direction: column;align-items: center;background-color: white;padding-right: 0.2em;padding-left: 0.2em;position: relative;}#sk-container-id-5 div.sk-item {position: relative;z-index: 1;}#sk-container-id-5 div.sk-parallel {display: flex;align-items: stretch;justify-content: center;background-color: white;position: relative;}#sk-container-id-5 div.sk-item::before, #sk-container-id-5 div.sk-parallel-item::before {content: \"\";position: absolute;border-left: 1px solid gray;box-sizing: border-box;top: 0;bottom: 0;left: 50%;z-index: -1;}#sk-container-id-5 div.sk-parallel-item {display: flex;flex-direction: column;z-index: 1;position: relative;background-color: white;}#sk-container-id-5 div.sk-parallel-item:first-child::after {align-self: flex-end;width: 50%;}#sk-container-id-5 div.sk-parallel-item:last-child::after {align-self: flex-start;width: 50%;}#sk-container-id-5 div.sk-parallel-item:only-child::after {width: 0;}#sk-container-id-5 div.sk-dashed-wrapped {border: 1px dashed gray;margin: 0 0.4em 0.5em 0.4em;box-sizing: border-box;padding-bottom: 0.4em;background-color: white;}#sk-container-id-5 div.sk-label label {font-family: monospace;font-weight: bold;display: inline-block;line-height: 1.2em;}#sk-container-id-5 div.sk-label-container {text-align: center;}#sk-container-id-5 div.sk-container {/* jupyter's `normalize.less` sets `[hidden] { display: none; }` but bootstrap.min.css set `[hidden] { display: none !important; }` so we also need the `!important` here to be able to override the default hidden behavior on the sphinx rendered scikit-learn.org. See: https://github.com/scikit-learn/scikit-learn/issues/21755 */display: inline-block !important;position: relative;}#sk-container-id-5 div.sk-text-repr-fallback {display: none;}</style><div id=\"sk-container-id-5\" class=\"sk-top-container\"><div class=\"sk-text-repr-fallback\"><pre>LinearRegression()</pre><b>In a Jupyter environment, please rerun this cell to show the HTML representation or trust the notebook. <br />On GitHub, the HTML representation is unable to render, please try loading this page with nbviewer.org.</b></div><div class=\"sk-container\" hidden><div class=\"sk-item\"><div class=\"sk-estimator sk-toggleable\"><input class=\"sk-toggleable__control sk-hidden--visually\" id=\"sk-estimator-id-5\" type=\"checkbox\" checked><label for=\"sk-estimator-id-5\" class=\"sk-toggleable__label sk-toggleable__label-arrow\">LinearRegression</label><div class=\"sk-toggleable__content\"><pre>LinearRegression()</pre></div></div></div></div></div>"
      ],
      "text/plain": [
       "LinearRegression()"
      ]
     },
     "execution_count": 45,
     "metadata": {},
     "output_type": "execute_result"
    }
   ],
   "source": [
    "housingModel2 = LinearRegression()\n",
    "housingModel2.fit(housing_MediumX_train, housing_MediumY_train)"
   ]
  },
  {
   "cell_type": "code",
   "execution_count": 46,
   "id": "01a17a7d",
   "metadata": {},
   "outputs": [
    {
     "data": {
      "text/plain": [
       "0.7893152490563671"
      ]
     },
     "execution_count": 46,
     "metadata": {},
     "output_type": "execute_result"
    }
   ],
   "source": [
    "housingModel2.score(housing_MediumX_train, housing_MediumY_train)"
   ]
  },
  {
   "cell_type": "code",
   "execution_count": 47,
   "id": "0375c465",
   "metadata": {},
   "outputs": [
    {
     "data": {
      "text/plain": [
       "0.8171281266246253"
      ]
     },
     "execution_count": 47,
     "metadata": {},
     "output_type": "execute_result"
    }
   ],
   "source": [
    "housingModel2.score(housing_MediumX_test, housing_MediumY_test)"
   ]
  },
  {
   "cell_type": "code",
   "execution_count": 48,
   "id": "b8745a81",
   "metadata": {},
   "outputs": [
    {
     "name": "stdout",
     "output_type": "stream",
     "text": [
      "Beta1 , Beta2, Beta3 = [-0.43848086  0.04535816  0.52128149]\n"
     ]
    }
   ],
   "source": [
    "print(\"Beta1 , Beta2, Beta3 =\", housingModel2.coef_)"
   ]
  },
  {
   "cell_type": "code",
   "execution_count": 49,
   "id": "74148d6e",
   "metadata": {},
   "outputs": [
    {
     "name": "stdout",
     "output_type": "stream",
     "text": [
      "Beta0 = -0.0015226239219982979\n"
     ]
    }
   ],
   "source": [
    "print(\"Beta0 =\", housingModel2.intercept_)"
   ]
  },
  {
   "cell_type": "markdown",
   "id": "2b070884",
   "metadata": {},
   "source": [
    "Comments\n",
    "\n",
    "In both training and testing, the R-Squared values have considerably increased from the Simple Model (model-1) with single explanatory variable to Medium model( model 2) with more than one explanatory variables. This suggests that the training and testing errors have also reduced from model 1 to model 2. In other words, by increasing the number of variables, the underfitting problem was reduced from model 1 to model 2, therefore the performance is better. But the testing accuracy is higher than the training accuracy, which means that the model is not overfitting and hence there is still scope of adding more variables to the model even better.\n",
    "\n",
    "\n",
    "In model 1, we took just one variable 'Lower_Stat%' with the parameter estimate (or co-efficient) as -0.707. In model 2, the co-effecient of 'Lower_Stat%' has weightage decreased to -0.43 when taken along with other relevant variables.\n",
    "\n",
    "\n",
    "To answer this, let us consider the independent variable 'Lower_Stat%' that's included in the model. The parameter estimate or the co-efficient of this variable is -0.36 This means it has a negative impact on the House Value(dependent variable), i.e, if the percentage of lower status population is higher (economic status of the neighborhood is low), the neighborhood is 'poorer' making the value of the house LOWER and vice-versa. \n"
   ]
  },
  {
   "cell_type": "markdown",
   "id": "29256be4",
   "metadata": {},
   "source": [
    "## 3) Ridge Model (all variables)\n"
   ]
  },
  {
   "cell_type": "code",
   "execution_count": 50,
   "id": "01339744",
   "metadata": {},
   "outputs": [],
   "source": [
    "housing_RidgeX = housingScaled[['CrimeRate','Zoned','Non_Retail','Riverside','NitricOxide','Rooms','Age','Dist_Centre',\n",
    "                                  'Accessibility_Index','tax','Pupil_Teacher','Lower_Stat%','Cat_Value']].values\n",
    "housing_RidgeY = housingScaled['House_Value'].values"
   ]
  },
  {
   "cell_type": "code",
   "execution_count": 51,
   "id": "1f10acf4",
   "metadata": {},
   "outputs": [
    {
     "data": {
      "text/html": [
       "<style>#sk-container-id-6 {color: black;background-color: white;}#sk-container-id-6 pre{padding: 0;}#sk-container-id-6 div.sk-toggleable {background-color: white;}#sk-container-id-6 label.sk-toggleable__label {cursor: pointer;display: block;width: 100%;margin-bottom: 0;padding: 0.3em;box-sizing: border-box;text-align: center;}#sk-container-id-6 label.sk-toggleable__label-arrow:before {content: \"▸\";float: left;margin-right: 0.25em;color: #696969;}#sk-container-id-6 label.sk-toggleable__label-arrow:hover:before {color: black;}#sk-container-id-6 div.sk-estimator:hover label.sk-toggleable__label-arrow:before {color: black;}#sk-container-id-6 div.sk-toggleable__content {max-height: 0;max-width: 0;overflow: hidden;text-align: left;background-color: #f0f8ff;}#sk-container-id-6 div.sk-toggleable__content pre {margin: 0.2em;color: black;border-radius: 0.25em;background-color: #f0f8ff;}#sk-container-id-6 input.sk-toggleable__control:checked~div.sk-toggleable__content {max-height: 200px;max-width: 100%;overflow: auto;}#sk-container-id-6 input.sk-toggleable__control:checked~label.sk-toggleable__label-arrow:before {content: \"▾\";}#sk-container-id-6 div.sk-estimator input.sk-toggleable__control:checked~label.sk-toggleable__label {background-color: #d4ebff;}#sk-container-id-6 div.sk-label input.sk-toggleable__control:checked~label.sk-toggleable__label {background-color: #d4ebff;}#sk-container-id-6 input.sk-hidden--visually {border: 0;clip: rect(1px 1px 1px 1px);clip: rect(1px, 1px, 1px, 1px);height: 1px;margin: -1px;overflow: hidden;padding: 0;position: absolute;width: 1px;}#sk-container-id-6 div.sk-estimator {font-family: monospace;background-color: #f0f8ff;border: 1px dotted black;border-radius: 0.25em;box-sizing: border-box;margin-bottom: 0.5em;}#sk-container-id-6 div.sk-estimator:hover {background-color: #d4ebff;}#sk-container-id-6 div.sk-parallel-item::after {content: \"\";width: 100%;border-bottom: 1px solid gray;flex-grow: 1;}#sk-container-id-6 div.sk-label:hover label.sk-toggleable__label {background-color: #d4ebff;}#sk-container-id-6 div.sk-serial::before {content: \"\";position: absolute;border-left: 1px solid gray;box-sizing: border-box;top: 0;bottom: 0;left: 50%;z-index: 0;}#sk-container-id-6 div.sk-serial {display: flex;flex-direction: column;align-items: center;background-color: white;padding-right: 0.2em;padding-left: 0.2em;position: relative;}#sk-container-id-6 div.sk-item {position: relative;z-index: 1;}#sk-container-id-6 div.sk-parallel {display: flex;align-items: stretch;justify-content: center;background-color: white;position: relative;}#sk-container-id-6 div.sk-item::before, #sk-container-id-6 div.sk-parallel-item::before {content: \"\";position: absolute;border-left: 1px solid gray;box-sizing: border-box;top: 0;bottom: 0;left: 50%;z-index: -1;}#sk-container-id-6 div.sk-parallel-item {display: flex;flex-direction: column;z-index: 1;position: relative;background-color: white;}#sk-container-id-6 div.sk-parallel-item:first-child::after {align-self: flex-end;width: 50%;}#sk-container-id-6 div.sk-parallel-item:last-child::after {align-self: flex-start;width: 50%;}#sk-container-id-6 div.sk-parallel-item:only-child::after {width: 0;}#sk-container-id-6 div.sk-dashed-wrapped {border: 1px dashed gray;margin: 0 0.4em 0.5em 0.4em;box-sizing: border-box;padding-bottom: 0.4em;background-color: white;}#sk-container-id-6 div.sk-label label {font-family: monospace;font-weight: bold;display: inline-block;line-height: 1.2em;}#sk-container-id-6 div.sk-label-container {text-align: center;}#sk-container-id-6 div.sk-container {/* jupyter's `normalize.less` sets `[hidden] { display: none; }` but bootstrap.min.css set `[hidden] { display: none !important; }` so we also need the `!important` here to be able to override the default hidden behavior on the sphinx rendered scikit-learn.org. See: https://github.com/scikit-learn/scikit-learn/issues/21755 */display: inline-block !important;position: relative;}#sk-container-id-6 div.sk-text-repr-fallback {display: none;}</style><div id=\"sk-container-id-6\" class=\"sk-top-container\"><div class=\"sk-text-repr-fallback\"><pre>Ridge()</pre><b>In a Jupyter environment, please rerun this cell to show the HTML representation or trust the notebook. <br />On GitHub, the HTML representation is unable to render, please try loading this page with nbviewer.org.</b></div><div class=\"sk-container\" hidden><div class=\"sk-item\"><div class=\"sk-estimator sk-toggleable\"><input class=\"sk-toggleable__control sk-hidden--visually\" id=\"sk-estimator-id-6\" type=\"checkbox\" checked><label for=\"sk-estimator-id-6\" class=\"sk-toggleable__label sk-toggleable__label-arrow\">Ridge</label><div class=\"sk-toggleable__content\"><pre>Ridge()</pre></div></div></div></div></div>"
      ],
      "text/plain": [
       "Ridge()"
      ]
     },
     "execution_count": 51,
     "metadata": {},
     "output_type": "execute_result"
    }
   ],
   "source": [
    "housingModel3 = Ridge(alpha=1.0)\n",
    "#higher value of alpha results in an output where all co-efficients are zero. Hence taking a less agressive alpha value.\n",
    "\n",
    "housingModel3.fit(housing_RidgeX, housing_RidgeY)"
   ]
  },
  {
   "cell_type": "code",
   "execution_count": 52,
   "id": "a3f2c164",
   "metadata": {},
   "outputs": [
    {
     "name": "stdout",
     "output_type": "stream",
     "text": [
      " Mean MAPE: -1.586\n"
     ]
    }
   ],
   "source": [
    "# define model evaluation method\n",
    "CrossValidation2 = RepeatedKFold(n_splits=10, n_repeats=3, random_state=1)\n",
    "# evaluate model\n",
    "scores2 = cross_val_score(housingModel3, housing_RidgeX, housing_RidgeY, scoring='neg_mean_absolute_percentage_error', cv=CrossValidation2)\n",
    "print(' Mean MAPE: %.3f' % (np.mean(scores2)))"
   ]
  },
  {
   "cell_type": "code",
   "execution_count": 53,
   "id": "a006677f",
   "metadata": {},
   "outputs": [
    {
     "data": {
      "text/plain": [
       "0.8415046287897521"
      ]
     },
     "execution_count": 53,
     "metadata": {},
     "output_type": "execute_result"
    }
   ],
   "source": [
    "housingModel3.score(housing_RidgeX, housing_RidgeY)"
   ]
  },
  {
   "cell_type": "code",
   "execution_count": 54,
   "id": "fec410ff",
   "metadata": {},
   "outputs": [
    {
     "name": "stdout",
     "output_type": "stream",
     "text": [
      "Betas = [-0.12060743 -0.0134131   0.08257737  0.06546057 -0.1912816   0.08247432\n",
      " -0.01956687 -0.16694512  0.18864171 -0.16640035 -0.13072268 -0.36985509\n",
      "  0.47732521]\n"
     ]
    }
   ],
   "source": [
    "print(\"Betas =\", housingModel3.coef_)"
   ]
  },
  {
   "cell_type": "code",
   "execution_count": 55,
   "id": "20831300",
   "metadata": {},
   "outputs": [
    {
     "name": "stdout",
     "output_type": "stream",
     "text": [
      "Beta0 = -7.241126254334743e-16\n"
     ]
    }
   ],
   "source": [
    "print(\"Beta0 =\", housingModel3.intercept_)"
   ]
  },
  {
   "cell_type": "markdown",
   "id": "69d8eb76",
   "metadata": {},
   "source": [
    "For this dataset, Ridge seemed to be a better model than Lasso, because :\n",
    "\n",
    "-For Lasso, even when the alpha(=0.005) value is small, the overall performance R-square (score) of Lasso was lesser than that of Ridge, showing that Ridge model has higher performance for a more aggressive alpha value( alpha= 1).\n",
    "\n",
    "-Also in Lasso, even by reducing the alpha to 0.005, none of the independent variables have co-efficients zero. This may indicate that all independent variables are important in the model and none can be eliminated through the Lasso method. Therefore, Ridge model is considered.\n",
    "\n"
   ]
  },
  {
   "cell_type": "markdown",
   "id": "e56c2e5e",
   "metadata": {},
   "source": [
    "## 4) Models Comparision"
   ]
  },
  {
   "cell_type": "code",
   "execution_count": 56,
   "id": "f9058592",
   "metadata": {},
   "outputs": [],
   "source": [
    "# Define X and y using the airfares Data\n",
    "housing_SimpleX = housingScaled[['Lower_Stat%']].values\n",
    "housing_SimpleY = housingScaled['House_Value'].values\n",
    "housing_MediumX = housingScaled[['Lower_Stat%','Rooms','Cat_Value']].values\n",
    "housing_MediumY = housingScaled['House_Value'].values"
   ]
  },
  {
   "cell_type": "code",
   "execution_count": 57,
   "id": "5e948603",
   "metadata": {},
   "outputs": [],
   "source": [
    "housingMAPE_Model1 = cross_val_score(housingModel1, housing_SimpleX, housing_SimpleY, scoring='neg_mean_absolute_percentage_error', cv=CrossValidation2)\n",
    "housingMAPE_Model2 = cross_val_score(housingModel2, housing_MediumX, housing_MediumY, scoring='neg_mean_absolute_percentage_error', cv=CrossValidation2)\n",
    "housingMAPE_Model3 = cross_val_score(housingModel3, housing_RidgeX, housing_RidgeY, scoring='neg_mean_absolute_percentage_error', cv=CrossValidation2)"
   ]
  },
  {
   "cell_type": "code",
   "execution_count": 58,
   "id": "1c7b2c78",
   "metadata": {},
   "outputs": [
    {
     "name": "stdout",
     "output_type": "stream",
     "text": [
      "MAPE of Simple Model: -2.932\n",
      "MAPE of Medium Complexity Model: -1.859\n",
      "MAPE of Ridge Model: -1.586\n",
      "\n",
      " Ridge Model gives the least error out of all the three models. \n"
     ]
    }
   ],
   "source": [
    "print('MAPE of Simple Model: %.3f' % (np.mean(housingMAPE_Model1)))\n",
    "print('MAPE of Medium Complexity Model: %.3f' % (np.mean(housingMAPE_Model2)))\n",
    "print('MAPE of Ridge Model: %.3f' % (np.mean(housingMAPE_Model3)))\n",
    "print('\\n Ridge Model gives the least error out of all the three models. ')"
   ]
  },
  {
   "attachments": {
    "image-3.png": {
     "image/png": "[encoded data removed]"
    }
   },
   "cell_type": "markdown",
   "id": "3a459ac2",
   "metadata": {},
   "source": [
    "![image-3.png](attachment:image-3.png)"
   ]
  }
 ],
 "metadata": {
  "kernelspec": {
   "display_name": "Python 3 (ipykernel)",
   "language": "python",
   "name": "python3"
  },
  "language_info": {
   "codemirror_mode": {
    "name": "ipython",
    "version": 3
   },
   "file_extension": ".py",
   "mimetype": "text/x-python",
   "name": "python",
   "nbconvert_exporter": "python",
   "pygments_lexer": "ipython3",
   "version": "3.9.13"
  }
 },
 "nbformat": 4,
 "nbformat_minor": 5
}
